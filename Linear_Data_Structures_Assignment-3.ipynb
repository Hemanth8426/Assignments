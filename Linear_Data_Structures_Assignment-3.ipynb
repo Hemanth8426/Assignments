{
 "cells": [
  {
   "cell_type": "code",
   "execution_count": null,
   "metadata": {},
   "outputs": [],
   "source": [
    "# Problem for Assignment-3: Searching & Sorting\n",
    "# Q1. Implement Binary Search\n",
    "# Q2. Implement Merge Sort\n",
    "# Q3. Implement Quick Sort\n",
    "# Q4. Implement Insertion Sort\n",
    "# Q5. Write a program to sort list of strings (similar to that of dictionary)"
   ]
  },
  {
   "cell_type": "code",
   "execution_count": 3,
   "metadata": {},
   "outputs": [
    {
     "name": "stdout",
     "output_type": "stream",
     "text": [
      "Element is present at index 1\n"
     ]
    }
   ],
   "source": [
    "# Q1. Implement Binary Search\n",
    "''' Binary Search is a searching algorithm for finding an element's position \n",
    "in a sorted array.\n",
    "In this approach, the element is always searched in the middle of a portion of \n",
    "an array. '''\n",
    "\n",
    "def binarySearch(array, x, low, high):\n",
    "    while low <= high:\n",
    "        mid = low + (high - low)//2\n",
    "        if array[mid] == x:\n",
    "            return mid\n",
    "        elif array[mid] < x:\n",
    "            low = mid + 1\n",
    "        else:\n",
    "            high = mid - 1\n",
    "    return -1\n",
    "\n",
    "if __name__ == '__main__':\n",
    "    # array = [3, 4, 5, 6, 7, 8, 9]\n",
    "    array = []\n",
    "    n = int(input('Enter total numbers of array: '))\n",
    "    for i in range(n):\n",
    "        element = int(input('Enter element: '))\n",
    "        array.append(element)\n",
    "\n",
    "        x = int(input('Enter digit which need to be searched: '))\n",
    "\n",
    "        result = binarySearch(array, x, 0, len(array)-1)\n",
    "\n",
    "        if result != -1:\n",
    "            print(\"Element is present at index \" + str(result))\n",
    "        else:\n",
    "            print(\"Not found\")\n"
   ]
  },
  {
   "cell_type": "code",
   "execution_count": 13,
   "metadata": {},
   "outputs": [
    {
     "name": "stdout",
     "output_type": "stream",
     "text": [
      "Unsorted Array: \n",
      "6 5 12 10 9 1 \n",
      "Sorted Array:\n",
      "1 5 6 9 10 12 \n"
     ]
    }
   ],
   "source": [
    "# Q2. Implement Merge Sort\n",
    "''' Merge Sort is one of the most popular sorting algorithms that is based on \n",
    "the principle of Divide and Conquer Algorithm.\n",
    "Here, a problem is divided into multiple sub-problems. \n",
    "Each sub-problem is solved individually. \n",
    "Finally, sub-problems are combined to form the final solution.'''\n",
    "\n",
    "def mergeSort(array):\n",
    "    if len(array) > 1:\n",
    "        #  r is the point where the array is divided into two sub-arrays\n",
    "        r = len(array)//2\n",
    "        L = array[:r]\n",
    "        M = array[r:]\n",
    "\n",
    "        # Sort the two halves\n",
    "        mergeSort(L)\n",
    "        mergeSort(M)\n",
    "\n",
    "        i = j = k = 0\n",
    "        while i < len(L) and j < len(M):\n",
    "            if L[i] < M[j]:\n",
    "                array[k] = L[i]\n",
    "                i += 1\n",
    "            else:\n",
    "                array[k] = M[j]\n",
    "                j += 1\n",
    "            k += 1\n",
    "\n",
    "        while i < len(L):\n",
    "            array[k] = L[i]\n",
    "            i += 1\n",
    "            k += 1\n",
    "\n",
    "        while j < len(M):\n",
    "            array[k] = M[j]\n",
    "            j += 1\n",
    "            k += 1\n",
    "\n",
    "def printList(array):\n",
    "    for i in range(len(array)):\n",
    "        print(array[i], end=\" \")\n",
    "    print()\n",
    "\n",
    "if __name__ == '__main__':\n",
    "    # array = [6, 5, 12, 10, 9, 1]\n",
    "    array = []\n",
    "    n = int(input('Enter total numbers of array: '))\n",
    "    for i in range(n):\n",
    "        element = int(input('Enter element: '))\n",
    "        array.append(element)\n",
    "        \n",
    "    print('Unsorted Array: ')\n",
    "    printList(array)\n",
    "\n",
    "    mergeSort(array)\n",
    "\n",
    "    print('Sorted Array:')\n",
    "    printList(array)\n"
   ]
  },
  {
   "cell_type": "code",
   "execution_count": 21,
   "metadata": {},
   "outputs": [
    {
     "name": "stdout",
     "output_type": "stream",
     "text": [
      "Unsorted Array: \n",
      "[8, 7, 2, 1, 0, 9, 6]\n",
      "Sorted Array:\n",
      "[0, 1, 2, 6, 7, 8, 9]\n"
     ]
    }
   ],
   "source": [
    "# Q3. Implement Quick Sort\n",
    "'''\n",
    "Quicksort is a sorting algorithm based on the divide and conquer approach where\n",
    "\n",
    "1. An array is divided into sub-arrays by selecting a pivot element (element \n",
    "selected from the array).\n",
    "While dividing the array, the pivot element should be positioned in such a way \n",
    "that elements less than pivot are kept on the left side and elements greater than\n",
    "pivot are on the right side of the pivot.\n",
    "\n",
    "2.The left and right subarrays are also divided using the same approach. \n",
    "This process continues until each subarray contains a single element.\n",
    "\n",
    "3. At this point, elements are already sorted. Finally, elements are combined to \n",
    "form a sorted array. '''\n",
    "\n",
    "# function to find the partition position\n",
    "def partition(array, low, high):\n",
    "  # choose the rightmost element as pivot\n",
    "  pivot = array[high]\n",
    "\n",
    "  i = low - 1\n",
    "\n",
    "  for j in range(low, high):\n",
    "    if array[j] <= pivot:\n",
    "      i = i + 1\n",
    "      (array[i], array[j]) = (array[j], array[i])\n",
    "  (array[i + 1], array[high]) = (array[high], array[i + 1])\n",
    "  return i + 1\n",
    "\n",
    "# function to perform quicksort\n",
    "def quickSort(array, low, high):\n",
    "  if low < high:\n",
    "    pi = partition(array, low, high)\n",
    "\n",
    "    quickSort(array, low, pi - 1)\n",
    "\n",
    "    quickSort(array, pi + 1, high)\n",
    "\n",
    "if __name__ == '__main__':\n",
    "    # array = [8, 7, 2, 1, 0, 9, 6]\n",
    "    array = []\n",
    "    n = int(input('Enter total numbers of array: '))\n",
    "    for i in range(n):\n",
    "        element = int(input('Enter element: '))\n",
    "        array.append(element)\n",
    "\n",
    "    print('Unsorted Array: ')\n",
    "    print(array)\n",
    "\n",
    "    quickSort(array, 0, len(array) - 1)\n",
    "\n",
    "    print('Sorted Array:')\n",
    "    print(array)\n"
   ]
  },
  {
   "cell_type": "code",
   "execution_count": 20,
   "metadata": {},
   "outputs": [
    {
     "name": "stdout",
     "output_type": "stream",
     "text": [
      "Unsorted Array: \n",
      "[9, 5, 1, 4, 3]\n",
      "Sorted Array:\n",
      "[1, 3, 4, 5, 9]\n"
     ]
    }
   ],
   "source": [
    "# Q4. Implement Insertion Sort\n",
    "\n",
    "'''Insertion sort is a sorting algorithm that places an unsorted element at its \n",
    "suitable place in each iteration.\n",
    "Insertion sort works similarly as we sort cards in our hand in a card game.\n",
    "We assume that the first card is already sorted then, we select an unsorted card. \n",
    "If the unsorted card is greater than the card in hand, it is placed on the right \n",
    "otherwise, to the left. In the same way, other unsorted cards are taken and put \n",
    "in their right place.\n",
    "A similar approach is used by insertion sort.'''\n",
    "\n",
    "def insertionSort(array):\n",
    "    for step in range(1, len(array)):\n",
    "        key = array[step]\n",
    "        j = step - 1\n",
    "\n",
    "        while j >= 0 and key < array[j]:\n",
    "            array[j + 1] = array[j]\n",
    "            j = j - 1\n",
    "\n",
    "        array[j + 1] = key\n",
    "\n",
    "if __name__ == '__main__':\n",
    "    # array = [9, 5, 1, 4, 3]\n",
    "    array = []\n",
    "    n = int(input('Enter total numbers of array: '))\n",
    "    for i in range(n):\n",
    "        element = int(input('Enter element: '))\n",
    "        array.append(element)\n",
    "\n",
    "    print('Unsorted Array: ')\n",
    "    print(array)\n",
    "\n",
    "    insertionSort(array)\n",
    "    \n",
    "    print('Sorted Array:')\n",
    "    print(array)\n"
   ]
  },
  {
   "cell_type": "code",
   "execution_count": 18,
   "metadata": {},
   "outputs": [
    {
     "name": "stdout",
     "output_type": "stream",
     "text": [
      "Unsorted List: \n",
      "[{'name': 'John', 'age': 25}, {'name': 'Jane', 'age': 30}, {'name': 'Bob', 'age': 20}]\n",
      "Sorted List based on age: \n",
      "[{'name': 'Bob', 'age': 20}, {'name': 'John', 'age': 25}, {'name': 'Jane', 'age': 30}]\n",
      "Sorted List based on name: \n",
      "[{'name': 'Bob', 'age': 20}, {'name': 'Jane', 'age': 30}, {'name': 'John', 'age': 25}]\n"
     ]
    }
   ],
   "source": [
    "# Q5. Write a program to sort list of strings (similar to that of dictionary)\n",
    "\n",
    "import operator\n",
    "\n",
    "my_list = [\n",
    "    {'name': 'John', 'age': 25},\n",
    "    {'name': 'Jane', 'age': 30},\n",
    "    {'name': 'Bob', 'age': 20},\n",
    "]\n",
    "\n",
    "print('Unsorted List: ')\n",
    "print(my_list)\n",
    "\n",
    "# Sort the list of dictionaries by the age value\n",
    "sorted_list = sorted(my_list, key=operator.itemgetter('age'))\n",
    "\n",
    "print('Sorted List based on age: ')\n",
    "print(sorted_list)\n",
    "\n",
    "# Sort the list of dictionaries by the name value\n",
    "sorted_list = sorted(my_list, key=operator.itemgetter('name'))\n",
    "\n",
    "print('Sorted List based on name: ')\n",
    "print(sorted_list)\n"
   ]
  }
 ],
 "metadata": {
  "kernelspec": {
   "display_name": "Python 3",
   "language": "python",
   "name": "python3"
  },
  "language_info": {
   "codemirror_mode": {
    "name": "ipython",
    "version": 3
   },
   "file_extension": ".py",
   "mimetype": "text/x-python",
   "name": "python",
   "nbconvert_exporter": "python",
   "pygments_lexer": "ipython3",
   "version": "3.10.11"
  }
 },
 "nbformat": 4,
 "nbformat_minor": 2
}
