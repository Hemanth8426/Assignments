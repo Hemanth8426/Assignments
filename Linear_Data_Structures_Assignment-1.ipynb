{
 "cells": [
  {
   "cell_type": "code",
   "execution_count": 1,
   "metadata": {},
   "outputs": [
    {
     "name": "stdout",
     "output_type": "stream",
     "text": [
      "Array =  [5, 2, 3, 4, 1, 6, 7]\n",
      "Pairs whose sum is:  7\n",
      "5 2\n",
      "3 4\n",
      "1 6\n"
     ]
    }
   ],
   "source": [
    "# Q1. Write a program to find all pairs of an integer array whose sum is equal to a given number?\n",
    "\n",
    "def pair_array_sum(arr,num,sum):\n",
    "    print('Pairs whose sum is: ',sum)\n",
    "    for i in range(num):\n",
    "        for j in range(i,num):\n",
    "            if arr[i] + arr[j] == sum:\n",
    "                print(arr[i],arr[j])\n",
    "\n",
    "if __name__ == \"__main__\":\n",
    "    arr_total = int(input('Number of elements in the array: '))\n",
    "    arr = list(map(int, input('Elements of array: ').strip().split()))\n",
    "    sum = int(input('Enter a any number: '))\n",
    "    \n",
    "    print('Array = ',arr)\n",
    "    \n",
    "    pair_array_sum(arr,arr_total,sum)\n"
   ]
  },
  {
   "cell_type": "code",
   "execution_count": 8,
   "metadata": {},
   "outputs": [
    {
     "name": "stdout",
     "output_type": "stream",
     "text": [
      "Array =  [10, 20, 30, 40, 50]\n",
      "Reversed array=  [50, 40, 30, 20, 10]\n"
     ]
    }
   ],
   "source": [
    "# Q2. Write a program to reverse an array in place? In place means you cannot create a new array. \n",
    "# You have to update the original array.\n",
    "\n",
    "def reverse_array(arr, start, end):\n",
    "    if start >= end:\n",
    "        return\n",
    "    arr[start],arr[end] = arr[end],arr[start]\n",
    "    reverse_array(arr,start+1,end-1)\n",
    "\n",
    "if __name__ == \"__main__\":\n",
    "    arr_total = int(input('Number of elements in the array: '))\n",
    "    arr = list(map(int, input('Elements of array: ').strip().split()))\n",
    "    \n",
    "    print('Array = ',arr)\n",
    "    \n",
    "    reverse_array(arr,0,arr_total-1)\n",
    "    print('Reversed array= ',arr)\n"
   ]
  },
  {
   "cell_type": "code",
   "execution_count": 18,
   "metadata": {},
   "outputs": [
    {
     "name": "stdout",
     "output_type": "stream",
     "text": [
      "Given Strings koLKAta and KAtakoL are rotation of each other.\n"
     ]
    }
   ],
   "source": [
    "# Q3. Write a program to check if two strings are a rotation of each other?\n",
    "\n",
    "def check_string_rotation(s1, s2):\n",
    "    if len(s1) != len(s2):\n",
    "        return False\n",
    "    else:\n",
    "        new_string = s1 + s1\n",
    "        if new_string.find(s2) != -1:\n",
    "            return True\n",
    "        else:\n",
    "            return False\n",
    "\n",
    "if __name__ == \"__main__\":\n",
    "    string_1 = input('Enter string 1: ')\n",
    "    string_2 = input('Enter string 2: ')\n",
    "    \n",
    "    if check_string_rotation(string_1,string_2):\n",
    "        print(f'Given Strings {string_1} and {string_2} are rotation of each other.')\n",
    "    else:\n",
    "        print(f'Given Strings {string_1} and {string_2} are not rotation of each other.')\n"
   ]
  },
  {
   "cell_type": "code",
   "execution_count": 19,
   "metadata": {},
   "outputs": [
    {
     "name": "stdout",
     "output_type": "stream",
     "text": [
      "First Non-Repeated Character:  h\n"
     ]
    }
   ],
   "source": [
    "# Q4. Write a program to print the first non-repeated character from a string?\n",
    "\n",
    "def Non_Repeated_Character(s):\n",
    "    char_order = []\n",
    "    counts = {}\n",
    "    for c in s:\n",
    "        if c in counts:\n",
    "            counts[c] += 1\n",
    "        else:\n",
    "            counts[c] = 1\n",
    "            char_order.append(c)\n",
    "    for c in char_order:\n",
    "        if counts[c] == 1:\n",
    "            return c\n",
    "    return None\n",
    "\n",
    "if __name__ == \"__main__\":\n",
    "    string1 = input('Enter a string: ')\n",
    "    print('First Non-Repeated Character: ',Non_Repeated_Character(string1))\n"
   ]
  },
  {
   "cell_type": "code",
   "execution_count": 22,
   "metadata": {},
   "outputs": [
    {
     "name": "stdout",
     "output_type": "stream",
     "text": [
      "Move disk 1 from rod A to rod C\n",
      "Move disk 2 from rod A to rod B\n",
      "Move disk 1 from rod C to rod B\n",
      "Move disk 3 from rod A to rod C\n",
      "Move disk 1 from rod B to rod A\n",
      "Move disk 2 from rod B to rod C\n",
      "Move disk 1 from rod A to rod C\n"
     ]
    }
   ],
   "source": [
    "# Q5. Read about the Tower of Hanoi algorithm. Write a program to implement it.\n",
    "\n",
    "def tower_of_hanoi(disks,source,auxiliary,target):\n",
    "    if disks == 1:\n",
    "        print(f'Move disk 1 from rod {source} to rod {target}')\n",
    "        return\n",
    "    tower_of_hanoi(disks-1,source,target,auxiliary)\n",
    "    print(f'Move disk {disks} from rod {source} to rod {target}')\n",
    "    tower_of_hanoi(disks-1,auxiliary,source,target)\n",
    "\n",
    "if __name__ == \"__main__\":\n",
    "    disks = int(input('Enter number of disks: '))\n",
    "    tower_of_hanoi(disks,'A','B','C')\n"
   ]
  },
  {
   "cell_type": "code",
   "execution_count": 32,
   "metadata": {},
   "outputs": [
    {
     "name": "stdout",
     "output_type": "stream",
     "text": [
      "Postfix : AB+CD-\n",
      "Prefix :  +AB-CD\n"
     ]
    }
   ],
   "source": [
    "# Q6. Read about infix, prefix, and postfix expressions. Write a program to convert postfix to prefix expression.\n",
    "\n",
    "def postfix_to_prefix(post_exp):\n",
    "\ts = []\n",
    "\tlength = len(post_exp)\n",
    "\t# reading from right to left\n",
    "\tfor i in range(length):\n",
    "\t\tif (is_Operator(post_exp[i])):\n",
    "\t\t\t# pop two operands from stack\n",
    "\t\t\top1 = s[-1]\n",
    "\t\t\ts.pop()\n",
    "\t\t\top2 = s[-1]\n",
    "\t\t\ts.pop()\n",
    "\t\t\ttemp = post_exp[i] + op2 + op1\n",
    "\t\t\t# Push string temp back to stack\n",
    "\t\t\ts.append(temp)\n",
    "\t\telse:\n",
    "\t\t\t# push the operand to the stack\n",
    "\t\t\ts.append(post_exp[i])\t\n",
    "\tans = \"\"\n",
    "\tfor i in s:\n",
    "\t\tans += i\n",
    "\treturn ans\n",
    "\n",
    "def Operator(symbols):\n",
    "    if symbols == \"*\" or symbols == \"+\" or symbols == \"-\" or symbols == \"/\" or symbols == \"^\" or symbols == \"(\" or symbols == \")\":\n",
    "        return True\n",
    "    else:\n",
    "        return False\n",
    "\n",
    "if __name__ == \"__main__\":\n",
    "    \n",
    "    post_exp = input('Enter any expression: ')  #AB+CD-\n",
    "    \n",
    "    print('Postfix :',post_exp)\n",
    "    print(\"Prefix : \", postfix_to_prefix(post_exp))\n",
    "\n"
   ]
  },
  {
   "cell_type": "code",
   "execution_count": 33,
   "metadata": {},
   "outputs": [
    {
     "name": "stdout",
     "output_type": "stream",
     "text": [
      "Prefix:  *+P/QR-/STU\n",
      "Infix:  ((P+(Q/R))*((S/T)-U))\n"
     ]
    }
   ],
   "source": [
    "# Q7. Write a program to convert prefix expression to infix expression.\n",
    "\n",
    "def prefix_to_infix(pre_exp):\n",
    "    symbols = []\n",
    "    l = len(pre_exp) - 1\n",
    "    while l >= 0:\n",
    "        if not Operator(pre_exp[l]):\n",
    "            symbols.append(pre_exp[l])\n",
    "            l -= 1\n",
    "        else:\n",
    "            string1 = '(' + symbols.pop() + pre_exp[l] + symbols.pop() + ')'\n",
    "            symbols.append(string1)\n",
    "            l -= 1\n",
    "    return symbols.pop()\n",
    "\n",
    "def Operator(symbols):\n",
    "    if symbols == \"*\" or symbols == \"+\" or symbols == \"-\" or symbols == \"/\" or symbols == \"^\" or symbols == \"(\" or symbols == \")\":\n",
    "        return True\n",
    "    else:\n",
    "        return False\n",
    "\n",
    "if __name__ == \"__main__\":\n",
    "    \n",
    "    pre_exp = input('Enter any expression: ')  # *+P/QR-/STU\n",
    "    \n",
    "    print('Prefix: ',pre_exp)\n",
    "    print('Infix: ',prefix_to_infix(pre_exp))\n"
   ]
  },
  {
   "cell_type": "code",
   "execution_count": 36,
   "metadata": {},
   "outputs": [
    {
     "name": "stdout",
     "output_type": "stream",
     "text": [
      "Expression {()}[] is Balanced\n"
     ]
    }
   ],
   "source": [
    "# Q8. Write a program to check if all the brackets are closed in a given code snippet.\n",
    "\n",
    "def are_brackets_balanced(expr):\n",
    "    stack = []\n",
    "    for char in expr:\n",
    "        if char in ['(','{','[']:\n",
    "            stack.append(char)\n",
    "        else:\n",
    "            if not stack:\n",
    "                return False\n",
    "            current_char = stack.pop()\n",
    "            if current_char == '(':\n",
    "                if char != ')':\n",
    "                    return False\n",
    "            if current_char == '{':\n",
    "                if char != '}':\n",
    "                    return False\n",
    "            if current_char == '[':\n",
    "                if char != ']':\n",
    "                    return False\n",
    "    if stack:\n",
    "        return False\n",
    "    return True\n",
    "\n",
    "if __name__ == \"__main__\":\n",
    "    expr = input('Enter a Expression: ') # {()}[]\n",
    "    if are_brackets_balanced(expr):\n",
    "        print(f'Expression {expr} is Balanced')\n",
    "    else:\n",
    "        print(f'Expressions {expr} is Not Balanced')\n"
   ]
  },
  {
   "cell_type": "code",
   "execution_count": 43,
   "metadata": {},
   "outputs": [
    {
     "name": "stdout",
     "output_type": "stream",
     "text": [
      "Original stack: \n",
      "5 4 3 2 1 None\n",
      "Stack after Reversing: \n",
      "1 2 3 4 5 None\n"
     ]
    }
   ],
   "source": [
    "# Q9. Write a program to reverse a stack.\n",
    "\n",
    "class Stack:\n",
    "    \n",
    "    def __init__(self):\n",
    "        self.elements = []\n",
    "    \n",
    "    def push(self,value):\n",
    "        self.elements.append(value)\n",
    "    \n",
    "    def pop(self):\n",
    "        return self.elements.pop()\n",
    "    \n",
    "    def empty(self):\n",
    "        return self.elements == []\n",
    "    \n",
    "    def show(self):\n",
    "        for value in reversed(self.elements):\n",
    "            print(value,end=' ')\n",
    "    \n",
    "def bottom_insert(s,value):\n",
    "    if s.empty():\n",
    "        s.push(value)\n",
    "    else:\n",
    "        popped = s.pop()\n",
    "        bottom_insert(s,value)\n",
    "        s.push(popped)\n",
    " \n",
    "def reverse(s):\n",
    "    if s.empty():\n",
    "        pass\n",
    "    else:\n",
    "        popped = s.pop()\n",
    "        reverse(s)\n",
    "        bottom_insert(s,popped)\n",
    "\n",
    "if __name__ == \"__main__\":\n",
    "    stk = Stack()\n",
    "    \n",
    "    stk.push(1)\n",
    "    stk.push(2)\n",
    "    stk.push(3)\n",
    "    stk.push(4)\n",
    "    stk.push(5)\n",
    "    \n",
    "    print('Original stack: ')\n",
    "    print(stk.show())\n",
    "    print('Stack after Reversing: ')\n",
    "    reverse(stk)\n",
    "    print(stk.show())\n",
    "\n"
   ]
  },
  {
   "cell_type": "code",
   "execution_count": 4,
   "metadata": {},
   "outputs": [
    {
     "name": "stdout",
     "output_type": "stream",
     "text": [
      "Stack is -  [3, 4, 7, 5]\n",
      "Smallest number of stack is -  3\n"
     ]
    }
   ],
   "source": [
    "# Q10. Write a program to find the smallest number using a stack.\n",
    "   \n",
    "stack = []\n",
    "\n",
    "num = int(input('How many numbers: '))\n",
    "for n in range(num):\n",
    "    numbers = int(input('Enter numbers: '))\n",
    "    stack.append(numbers)\n",
    "\n",
    "print('Stack is - ',stack)\n",
    "print('Smallest number of stack is - ',min(stack))  \n"
   ]
  }
 ],
 "metadata": {
  "kernelspec": {
   "display_name": "Python 3",
   "language": "python",
   "name": "python3"
  },
  "language_info": {
   "codemirror_mode": {
    "name": "ipython",
    "version": 3
   },
   "file_extension": ".py",
   "mimetype": "text/x-python",
   "name": "python",
   "nbconvert_exporter": "python",
   "pygments_lexer": "ipython3",
   "version": "3.10.11"
  },
  "orig_nbformat": 4
 },
 "nbformat": 4,
 "nbformat_minor": 2
}
